{
 "cells": [
  {
   "cell_type": "markdown",
   "metadata": {},
   "source": [
    "### Establish a connection"
   ]
  },
  {
   "cell_type": "code",
   "execution_count": 7,
   "metadata": {},
   "outputs": [],
   "source": [
    "from omero.gateway import BlitzGateway, MapAnnotationWrapper\n",
    "from PIL import Image\n",
    "import matplotlib.pyplot as plt\n",
    "import cv2\n",
    "\n",
    "conn = BlitzGateway(\"USERNAME\", \"PASSWORD\", host=\"wsi.lavlab.mcw.edu\", secure=True)\n",
    "conn.connect()\n",
    "conn.c.enableKeepAlive(60)"
   ]
  },
  {
   "cell_type": "markdown",
   "metadata": {},
   "source": [
    "### Get all tiles from each image in a folder\n",
    "            "
   ]
  },
  {
   "cell_type": "code",
   "execution_count": null,
   "metadata": {},
   "outputs": [],
   "source": [
    "import importlib\n",
    "import ipynb.fs.full.functions\n",
    "importlib.reload(ipynb.fs.full.functions)\n",
    "from ipynb.fs.full.functions import getTilesFromImage, getUnlabeledTilesFromImage, getEdgeTilesFromImage\n",
    "\n",
    "folderIds = [566, 568, 567, 309, 553, 652, 571, 569, 651, 570]\n",
    "\n",
    "for folderId in folderIds:\n",
    "    print(f\"processing folder {folderId}\")\n",
    "    # get all images from a folder\n",
    "    dataset = conn.getObject(\"Dataset\", folderId)\n",
    "    datasetImages = dataset.listChildren()\n",
    "\n",
    "    # loop through each image in the folder individually\n",
    "    for image in datasetImages:\n",
    "        imageId = image.getId()\n",
    "        print(f\"processing image {imageId}\")\n",
    "        allBoxes = []\n",
    "\n",
    "        # get tumorous tiles\n",
    "        print(\"getting tumorous tiles\")\n",
    "        tiles, boxes1 = getTilesFromImage(imageId, conn)\n",
    "        allBoxes.extend(boxes1)\n",
    "\n",
    "        # tiles from the edge (background)\n",
    "        print(\"getting background tiles\")\n",
    "        backgroundTiles, boxes2 = getEdgeTilesFromImage(imageId, conn, 500, 500)\n",
    "        allBoxes.extend(boxes2)\n",
    "\n",
    "        # get unlabeled tiles\n",
    "        print(\"getting unlabeled tiles\")\n",
    "        unlabeledTiles = getUnlabeledTilesFromImage(imageId, conn, 500, 500, allBoxes)\n",
    "\n",
    "        # save tumorous tiles\n",
    "        print(\"saving tumorous tiles\")\n",
    "        index = 0\n",
    "        for tile in tiles:\n",
    "            filename = f\"./training/{tile['gleason']}/img{tile['imgId']}roi{tile['roiId']}id{index}.tiff\"\n",
    "            cv2.imwrite(filename, cv2.cvtColor(tile[\"tile\"], cv2.COLOR_RGB2BGR))\n",
    "            index += 1\n",
    "\n",
    "        # save background tiles\n",
    "        print(\"saving background tiles\")\n",
    "        index = 0\n",
    "        for tile in backgroundTiles:\n",
    "            filename = f\"./training/Background/img{tile['imgId']}id{index}.tiff\"\n",
    "            cv2.imwrite(filename, cv2.cvtColor(tile[\"tile\"], cv2.COLOR_RGB2BGR))\n",
    "            index += 1\n",
    "        \n",
    "        # save unlabeled tiles\n",
    "        print(\"saving unlabeled tiles\")\n",
    "        index = 0\n",
    "        for tile in unlabeledTiles:\n",
    "            filename = f\"./training/Unlabeled/img{tile['imgId']}id{index}.tiff\"\n",
    "            cv2.imwrite(filename, cv2.cvtColor(tile[\"tile\"], cv2.COLOR_RGB2BGR))\n",
    "            index += 1"
   ]
  }
 ],
 "metadata": {
  "kernelspec": {
   "display_name": "myenv",
   "language": "python",
   "name": "python3"
  },
  "language_info": {
   "codemirror_mode": {
    "name": "ipython",
    "version": 3
   },
   "file_extension": ".py",
   "mimetype": "text/x-python",
   "name": "python",
   "nbconvert_exporter": "python",
   "pygments_lexer": "ipython3",
   "version": "3.8.16"
  },
  "orig_nbformat": 4
 },
 "nbformat": 4,
 "nbformat_minor": 2
}
